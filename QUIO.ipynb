{
 "cells": [
  {
   "cell_type": "markdown",
   "metadata": {},
   "source": [
    "# Quadratic Unconstrained Integer Optimization\n",
    "\n",
    "My version of QUIO is inspired by Dwave QUBO solver but tries to minimize an integer equation (as opposed to binary). The equation is as follows:\n",
    "$$QUIO = \\sum_i \\alpha_i x_i + \\sum_{i<j} \\beta_{ij} x_ix_j + \\sum_{i} \\gamma_i x_i^2$$\n",
    "The elements of the magnitude vector in the QIO class are the $\\alpha_i$s, the offdiagonal elements of the coupling matrix are the $\\beta_{ij}$ while the diagonal elements are the $\\gamma_i$s.\n",
    "\n",
    "At this point (version 0) no other parameters (including the annealing parameters) can be controlled and everything is preset."
   ]
  },
  {
   "cell_type": "code",
   "execution_count": 363,
   "metadata": {},
   "outputs": [],
   "source": [
    "import numpy as np\n",
    "from pynq import allocate\n",
    "from pynq import Overlay, Register\n",
    "from matplotlib import pyplot as plot\n",
    "from time import sleep\n",
    "from copy import deepcopy"
   ]
  },
  {
   "cell_type": "code",
   "execution_count": 380,
   "metadata": {},
   "outputs": [],
   "source": [
    "class QIO(Overlay):\n",
    "    \"\"\"\n",
    "        req: Overlay, allocate, numpy\n",
    "    \"\"\"\n",
    "    def __init__(self, ol_path, QIO_size=256):\n",
    "        super().__init__(ol_path)\n",
    "        self.input_buffer = allocate(shape = (4 + QIO_size + (QIO_size + 1) * QIO_size,), dtype = np.float32)\n",
    "        self.output_buffer = allocate(shape = (QIO_size,), dtype = np.int32)\n",
    "        self.init = np.zeros((QIO_size,))\n",
    "        self.couplings = np.zeros((QIO_size, QIO_size))\n",
    "        self.magnitude = np.zeros((QIO_size,))\n",
    "        self.output = np.zeros((QIO_size,))\n",
    "        self.QIO_size = QIO_size\n",
    "\n",
    "    def __reset__(self):\n",
    "        self.init = np.zeros((self.QIO_size,))\n",
    "        self.couplings = np.zeros((self.QIO_size, self.QIO_size))\n",
    "        self.magnitude = np.zeros((self.QIO_size,))\n",
    "\n",
    "    def __start__(self):\n",
    "        # XORSHIFT128\n",
    "        self.input_buffer[0] = np.random.randint(np.iinfo(np.int32).max)\n",
    "        self.input_buffer[1] = np.random.randint(np.iinfo(np.int32).max)\n",
    "        self.input_buffer[2] = np.random.randint(np.iinfo(np.int32).max)\n",
    "        self.input_buffer[3] = np.random.randint(np.iinfo(np.int32).max)\n",
    "        self.input_buffer[4:(self.QIO_size + 4)] = self.init\n",
    "        self.input_buffer[\n",
    "            (self.QIO_size ** 2 + self.QIO_size + 4):(self.QIO_size ** 2 + 2*self.QIO_size + 4)\n",
    "        ] = self.magnitude\n",
    "        self.input_buffer[\n",
    "            (self.QIO_size + 4):(self.QIO_size ** 2 + self.QIO_size + 4)\n",
    "        ] = self.couplings.reshape(\n",
    "            self.QIO_size ** 2\n",
    "        )\n",
    "\n",
    "        self.DMA2QIO.sendchannel.transfer(self.input_buffer)\n",
    "        self.QIO2DMA.recvchannel.transfer(self.output_buffer)\n",
    "        self.QIO_accel.register_map.CTRL[0] = 1\n",
    "        self.DMA2QIO.sendchannel.wait()\n",
    "        self.QIO2DMA.recvchannel.wait()\n",
    "\n",
    "        self.output = deepcopy(self.output_buffer)\n",
    "\n",
    "    def __repr__(self):\n",
    "        return f'Control register: {self.QIO_accel.register_map.CTRL}'"
   ]
  },
  {
   "cell_type": "markdown",
   "metadata": {},
   "source": [
    "Loading the bistream:"
   ]
  },
  {
   "cell_type": "code",
   "execution_count": 381,
   "metadata": {},
   "outputs": [],
   "source": [
    "ol = QIO(f'/home/xilinx/pynq/overlays/RO/QIO.bit')"
   ]
  },
  {
   "cell_type": "markdown",
   "metadata": {},
   "source": [
    "## Example:\n",
    "Next we prepare a sample problem where we want the first five variables to add up to 377 and the others to add up to zero. Therefore, we prepare an optimization problem as follows:\n",
    "$$(\\sum_0^4 x_i - 377)^2 + (\\sum_5^{255} x_i - 0)^2 = \\sum_{i = 0, i < j}^{4} 2x_ix_j + \\sum_{i = 5, i < j}^{255} 2x_ix_j - 754\\sum_0^4 x_i + \\sum_0^{255} x_i^2$$\n",
    "where we ignored the constant as it has no effect in minimization."
   ]
  },
  {
   "cell_type": "code",
   "execution_count": 373,
   "metadata": {},
   "outputs": [],
   "source": [
    "k = 5\n",
    "for i in range(256):\n",
    "    ol.couplings[i,i] = 1\n",
    "    if i < k:\n",
    "        ol.magnitude[i] = -754\n",
    "        for j in range(k):\n",
    "            if i < j:\n",
    "                ol.couplings[i,j] = 2\n",
    "    else:\n",
    "        for j in range(k,256):\n",
    "            if i < j:\n",
    "                ol.couplings[i,j] = 2"
   ]
  },
  {
   "cell_type": "markdown",
   "metadata": {},
   "source": [
    "We can now turn on the solver to solve the shit out of it."
   ]
  },
  {
   "cell_type": "code",
   "execution_count": 374,
   "metadata": {},
   "outputs": [
    {
     "data": {
      "text/plain": [
       "[<matplotlib.lines.Line2D at 0xac6b3710>]"
      ]
     },
     "execution_count": 374,
     "metadata": {},
     "output_type": "execute_result"
    },
    {
     "data": {
      "image/png": "[encoded data removed]",
      "text/plain": [
       "<matplotlib.figure.Figure at 0xabfd0f70>"
      ]
     },
     "metadata": {},
     "output_type": "display_data"
    }
   ],
   "source": [
    "#%%timeit\n",
    "ol.__start__()\n",
    "plot.plot(ol.output)"
   ]
  },
  {
   "cell_type": "code",
   "execution_count": 375,
   "metadata": {},
   "outputs": [
    {
     "data": {
      "text/plain": [
       "PynqBuffer(380)"
      ]
     },
     "execution_count": 375,
     "metadata": {},
     "output_type": "execute_result"
    }
   ],
   "source": [
    "ol.output.sum()"
   ]
  },
  {
   "cell_type": "markdown",
   "metadata": {},
   "source": [
    "Since things are random, another run might mean another solution:"
   ]
  },
  {
   "cell_type": "code",
   "execution_count": 376,
   "metadata": {},
   "outputs": [
    {
     "data": {
      "text/plain": [
       "[<matplotlib.lines.Line2D at 0xac4e6b70>]"
      ]
     },
     "execution_count": 376,
     "metadata": {},
     "output_type": "execute_result"
    },
    {
     "data": {
      "image/png": "[encoded data removed]",
      "text/plain": [
       "<matplotlib.figure.Figure at 0xac6a05d0>"
      ]
     },
     "metadata": {},
     "output_type": "display_data"
    }
   ],
   "source": [
    "ol.__start__()\n",
    "plot.plot(ol.output)"
   ]
  },
  {
   "cell_type": "code",
   "execution_count": 377,
   "metadata": {},
   "outputs": [
    {
     "data": {
      "text/plain": [
       "PynqBuffer(378)"
      ]
     },
     "execution_count": 377,
     "metadata": {},
     "output_type": "execute_result"
    }
   ],
   "source": [
    "ol.output.sum()"
   ]
  },
  {
   "cell_type": "code",
   "execution_count": 378,
   "metadata": {},
   "outputs": [],
   "source": [
    "# We can set the starting point to the previous solution \n",
    "# ol.init = deepcopy(ol.output)\n",
    "# we can also reset to solve another problem\n",
    "ol.__reset__()"
   ]
  },
  {
   "cell_type": "code",
   "execution_count": 379,
   "metadata": {},
   "outputs": [
    {
     "data": {
      "text/plain": [
       "PynqBuffer([112,  48,  71, 109,  36,   0,   0,   0,   0,   0,   0,   0,\n",
       "              0,   0,   0,   0,   0,   0,   0,   0,   0,   0,   0,   0,\n",
       "              0,   0,   0,   0,   0,   0,   0,   0,   0,   0,   0,   0,\n",
       "              0,   0,   0,   0,   0,   0,   0,   0,   0,   0,   0,   0,\n",
       "              0,   0])"
      ]
     },
     "execution_count": 379,
     "metadata": {},
     "output_type": "execute_result"
    }
   ],
   "source": [
    "ol.output[:50]"
   ]
  },
  {
   "cell_type": "code",
   "execution_count": null,
   "metadata": {},
   "outputs": [],
   "source": []
  }
 ],
 "metadata": {
  "kernelspec": {
   "display_name": "Python 3",
   "language": "python",
   "name": "python3"
  },
  "language_info": {
   "codemirror_mode": {
    "name": "ipython",
    "version": 3
   },
   "file_extension": ".py",
   "mimetype": "text/x-python",
   "name": "python",
   "nbconvert_exporter": "python",
   "pygments_lexer": "ipython3",
   "version": "3.6.5"
  }
 },
 "nbformat": 4,
 "nbformat_minor": 2
}
